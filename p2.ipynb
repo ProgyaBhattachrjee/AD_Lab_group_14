{
 "cells": [
  {
   "cell_type": "code",
   "execution_count": 10,
   "id": "39d878a9-61d3-4c72-9535-f00eb7a73f11",
   "metadata": {},
   "outputs": [],
   "source": [
    "import pandas as pd\n",
    "import numpy as np\n",
    "import talib\n",
    "from flask import Flask, request, jsonify\n",
    "import yfinance as yf\n",
    "import json\n",
    "import os\n",
    "\n",
    "app = Flask(__name__)\n",
    "\n",
    "# Load stock data using yfinance\n",
    "def load_stock_data(symbol, interval):\n",
    "    df = yf.download(symbol, period=\"5y\", interval=interval)\n",
    "    df.reset_index(inplace=True)\n",
    "    return df\n",
    "\n",
    "# Calculate technical indicators using TA-Lib\n",
    "def calculate_indicators(df):\n",
    "    df['SMA'] = talib.SMA(df['Close'], timeperiod=30)\n",
    "    df['EMA'] = talib.EMA(df['Close'], timeperiod=30)\n",
    "    df['RSI'] = talib.RSI(df['Close'], timeperiod=14)\n",
    "    df['MACD'], df['MACD_Signal'], df['MACD_Hist'] = talib.MACD(df['Close'], fastperiod=12, slowperiod=26, signalperiod=9)\n",
    "    return df\n",
    "\n",
    "@app.route('/get_stock_data', methods=['POST'])\n",
    "def get_stock_data():\n",
    "    # Extract parameters from the request\n",
    "    symbol = ['AAPL', 'GOOGL', 'MSFT', 'AMZN', 'TSLA', 'META', 'NFLX', 'NVDA', 'JPM', 'BA']\n",
    "    interval = '30d'\n",
    "\n",
    "    # Load and process the stock data\n",
    "    for i in symbol:\n",
    "        df = load_stock_data(symbol, interval)\n",
    "        df = calculate_indicators(df)\n",
    "\n",
    "    # Prepare data for saving and returning\n",
    "        data = {\n",
    "            'dates': df['Date'].dt.strftime('%Y-%m-%d').tolist(),\n",
    "            'close': df['Close'].tolist(),\n",
    "            'sma': df['SMA'].tolist(),\n",
    "            'ema': df['EMA'].tolist(),\n",
    "            'rsi': df['RSI'].tolist(),\n",
    "            'macd': df['MACD'].tolist(),\n",
    "            'macd_signal': df['MACD_Signal'].tolist(),\n",
    "            'macd_hist': df['MACD_Hist'].tolist()\n",
    "        }\n",
    "\n",
    "        # Save data to a JSON file\n",
    "        output_file = f\"{i}_{interval}_indicators.json\"\n",
    "        with open(output_file, 'w') as f:\n",
    "            json.dump(data, f, indent=4)\n",
    "    \n",
    "    print(f\"Data saved to {os.path.abspath(output_file)}\")\n",
    "    \n",
    "    # Return the JSON data as a response\n",
    "    return jsonify(data)\n",
    "\n",
    "if __name__ == 'main':\n",
    "    app.run(debug=True)\n"
   ]
  },
  {
   "cell_type": "code",
   "execution_count": 12,
   "id": "d409a072-9e46-4ef2-8ad1-1dd2f6584b3d",
   "metadata": {},
   "outputs": [
    {
     "name": "stdout",
     "output_type": "stream",
     "text": [
      " Volume in drive C is Windows-SSD\n",
      " Volume Serial Number is 3E16-82CE\n",
      "\n",
      " Directory of C:\\Users\\KIIT\\AD_Lab_group_14\n",
      "\n",
      "15-01-2025  12:28    <DIR>          .\n",
      "15-01-2025  12:23    <DIR>          ..\n",
      "15-01-2025  12:28    <DIR>          .ipynb_checkpoints\n",
      "11-01-2025  00:35    <DIR>          Backend\n",
      "15-01-2025  11:41         4,785,971 data.json\n",
      "15-01-2025  11:37         4,785,971 financial_data.json\n",
      "14-01-2025  11:28    <DIR>          financial-dashboard\n",
      "11-01-2025  00:35               701 p1.py\n",
      "15-01-2025  12:28             4,349 p2.ipynb\n",
      "11-01-2025  00:35                19 README.md\n",
      "               5 File(s)      9,577,011 bytes\n",
      "               5 Dir(s)  199,350,411,264 bytes free\n"
     ]
    }
   ],
   "source": [
    "ls"
   ]
  }
 ],
 "metadata": {
  "kernelspec": {
   "display_name": "Python 3 (ipykernel)",
   "language": "python",
   "name": "python3"
  },
  "language_info": {
   "codemirror_mode": {
    "name": "ipython",
    "version": 3
   },
   "file_extension": ".py",
   "mimetype": "text/x-python",
   "name": "python",
   "nbconvert_exporter": "python",
   "pygments_lexer": "ipython3",
   "version": "3.12.3"
  }
 },
 "nbformat": 4,
 "nbformat_minor": 5
}
